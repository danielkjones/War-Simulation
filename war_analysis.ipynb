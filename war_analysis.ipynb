{
 "cells": [
  {
   "cell_type": "code",
   "execution_count": 52,
   "metadata": {},
   "outputs": [],
   "source": [
    "import pandas as pd\n",
    "import numpy as np\n",
    "import matplotlib.pyplot as plt"
   ]
  },
  {
   "cell_type": "code",
   "execution_count": 55,
   "metadata": {},
   "outputs": [],
   "source": [
    "def find_bounds(data_array):\n",
    "    q1, q3 = np.percentile(data_array,[25,75])\n",
    "    iqr = q3 - q1\n",
    "    lower_bound = q1 -(1.5 * iqr) \n",
    "    upper_bound = q3 +(1.5 * iqr) \n",
    "    return lower_bound, upper_bound"
   ]
  },
  {
   "cell_type": "code",
   "execution_count": 67,
   "metadata": {},
   "outputs": [],
   "source": [
    "def remove_outliers(data_array):\n",
    "    data_array.sort()\n",
    "    l_b, u_b = find_bounds(data_array)\n",
    "    return [value for value in data_array if value >= l_b and value <= u_b]"
   ]
  },
  {
   "cell_type": "code",
   "execution_count": 78,
   "metadata": {},
   "outputs": [],
   "source": [
    "def time_estimate_minutes(iterations, seconds_per_iteration):\n",
    "    total_time_seconds = seconds_per_iteration * iterations\n",
    "    total_time_minutes = total_time_seconds / 60\n",
    "    return total_time_minutes"
   ]
  },
  {
   "cell_type": "code",
   "execution_count": 75,
   "metadata": {},
   "outputs": [],
   "source": [
    "def print_stats(df):\n",
    "    maxObj = df[['Total_Turns','Rounds_of_War', 'Cards_Played_Each']].max()\n",
    "    print(\"\\nMAX INFORMATION\")\n",
    "    print(maxObj)\n",
    "    minObj = df[['Total_Turns','Rounds_of_War', 'Cards_Played_Each']].min()\n",
    "    print(\"\\nMIN INFORMATION\")\n",
    "    print(minObj)\n",
    "    avgObj = df[['Total_Turns','Rounds_of_War', 'Cards_Played_Each']].mean()\n",
    "    print(\"\\nMEAN INFORMATION\")\n",
    "    print(avgObj)\n",
    "    medianObj = df[['Total_Turns','Rounds_of_War', 'Cards_Played_Each']].median()\n",
    "    print(\"\\nMEDIAN INFORMATION\")\n",
    "    print(medianObj)"
   ]
  },
  {
   "cell_type": "code",
   "execution_count": 76,
   "metadata": {},
   "outputs": [
    {
     "data": {
      "text/html": [
       "<div>\n",
       "<style scoped>\n",
       "    .dataframe tbody tr th:only-of-type {\n",
       "        vertical-align: middle;\n",
       "    }\n",
       "\n",
       "    .dataframe tbody tr th {\n",
       "        vertical-align: top;\n",
       "    }\n",
       "\n",
       "    .dataframe thead th {\n",
       "        text-align: right;\n",
       "    }\n",
       "</style>\n",
       "<table border=\"1\" class=\"dataframe\">\n",
       "  <thead>\n",
       "    <tr style=\"text-align: right;\">\n",
       "      <th></th>\n",
       "      <th>Total_Turns</th>\n",
       "      <th>Rounds_of_War</th>\n",
       "      <th>Winner</th>\n",
       "      <th>Cards_Played_Each</th>\n",
       "      <th>id</th>\n",
       "      <th>Card_Movements</th>\n",
       "    </tr>\n",
       "  </thead>\n",
       "  <tbody>\n",
       "    <tr>\n",
       "      <th>0</th>\n",
       "      <td>616</td>\n",
       "      <td>38</td>\n",
       "      <td>Player 1</td>\n",
       "      <td>730</td>\n",
       "      <td>0</td>\n",
       "      <td>1346</td>\n",
       "    </tr>\n",
       "    <tr>\n",
       "      <th>1</th>\n",
       "      <td>282</td>\n",
       "      <td>16</td>\n",
       "      <td>Player 1</td>\n",
       "      <td>330</td>\n",
       "      <td>1</td>\n",
       "      <td>612</td>\n",
       "    </tr>\n",
       "    <tr>\n",
       "      <th>2</th>\n",
       "      <td>293</td>\n",
       "      <td>19</td>\n",
       "      <td>Player 1</td>\n",
       "      <td>350</td>\n",
       "      <td>2</td>\n",
       "      <td>643</td>\n",
       "    </tr>\n",
       "    <tr>\n",
       "      <th>3</th>\n",
       "      <td>383</td>\n",
       "      <td>22</td>\n",
       "      <td>Player 2</td>\n",
       "      <td>449</td>\n",
       "      <td>3</td>\n",
       "      <td>832</td>\n",
       "    </tr>\n",
       "    <tr>\n",
       "      <th>4</th>\n",
       "      <td>134</td>\n",
       "      <td>5</td>\n",
       "      <td>Player 2</td>\n",
       "      <td>149</td>\n",
       "      <td>4</td>\n",
       "      <td>283</td>\n",
       "    </tr>\n",
       "    <tr>\n",
       "      <th>...</th>\n",
       "      <td>...</td>\n",
       "      <td>...</td>\n",
       "      <td>...</td>\n",
       "      <td>...</td>\n",
       "      <td>...</td>\n",
       "      <td>...</td>\n",
       "    </tr>\n",
       "    <tr>\n",
       "      <th>59995</th>\n",
       "      <td>175</td>\n",
       "      <td>12</td>\n",
       "      <td>Player 2</td>\n",
       "      <td>211</td>\n",
       "      <td>59995</td>\n",
       "      <td>386</td>\n",
       "    </tr>\n",
       "    <tr>\n",
       "      <th>59996</th>\n",
       "      <td>1152</td>\n",
       "      <td>82</td>\n",
       "      <td>Player 1</td>\n",
       "      <td>1398</td>\n",
       "      <td>59996</td>\n",
       "      <td>2550</td>\n",
       "    </tr>\n",
       "    <tr>\n",
       "      <th>59997</th>\n",
       "      <td>248</td>\n",
       "      <td>20</td>\n",
       "      <td>Player 2</td>\n",
       "      <td>308</td>\n",
       "      <td>59997</td>\n",
       "      <td>556</td>\n",
       "    </tr>\n",
       "    <tr>\n",
       "      <th>59998</th>\n",
       "      <td>188</td>\n",
       "      <td>14</td>\n",
       "      <td>Player 1</td>\n",
       "      <td>230</td>\n",
       "      <td>59998</td>\n",
       "      <td>418</td>\n",
       "    </tr>\n",
       "    <tr>\n",
       "      <th>59999</th>\n",
       "      <td>486</td>\n",
       "      <td>24</td>\n",
       "      <td>Player 2</td>\n",
       "      <td>558</td>\n",
       "      <td>59999</td>\n",
       "      <td>1044</td>\n",
       "    </tr>\n",
       "  </tbody>\n",
       "</table>\n",
       "<p>60000 rows × 6 columns</p>\n",
       "</div>"
      ],
      "text/plain": [
       "       Total_Turns  Rounds_of_War    Winner  Cards_Played_Each     id  \\\n",
       "0              616             38  Player 1                730      0   \n",
       "1              282             16  Player 1                330      1   \n",
       "2              293             19  Player 1                350      2   \n",
       "3              383             22  Player 2                449      3   \n",
       "4              134              5  Player 2                149      4   \n",
       "...            ...            ...       ...                ...    ...   \n",
       "59995          175             12  Player 2                211  59995   \n",
       "59996         1152             82  Player 1               1398  59996   \n",
       "59997          248             20  Player 2                308  59997   \n",
       "59998          188             14  Player 1                230  59998   \n",
       "59999          486             24  Player 2                558  59999   \n",
       "\n",
       "       Card_Movements  \n",
       "0                1346  \n",
       "1                 612  \n",
       "2                 643  \n",
       "3                 832  \n",
       "4                 283  \n",
       "...               ...  \n",
       "59995             386  \n",
       "59996            2550  \n",
       "59997             556  \n",
       "59998             418  \n",
       "59999            1044  \n",
       "\n",
       "[60000 rows x 6 columns]"
      ]
     },
     "execution_count": 76,
     "metadata": {},
     "output_type": "execute_result"
    }
   ],
   "source": [
    "df = pd.read_csv('game_log.csv')\n",
    "df['Cards_Played_Each'] = df['Total_Turns'] + (df['Rounds_of_War'] * 3)\n",
    "df['id'] = [i for i in range(len(df['Total_Turns']))]\n",
    "df['Card_Movements'] = df['Cards_Played_Each'] + df['Total_Turns']\n",
    "df"
   ]
  },
  {
   "cell_type": "code",
   "execution_count": 77,
   "metadata": {
    "scrolled": true
   },
   "outputs": [
    {
     "name": "stdout",
     "output_type": "stream",
     "text": [
      "\n",
      "MAX INFORMATION\n",
      "Total_Turns          3232\n",
      "Rounds_of_War         195\n",
      "Cards_Played_Each    3817\n",
      "dtype: int64\n",
      "\n",
      "MIN INFORMATION\n",
      "Total_Turns          13\n",
      "Rounds_of_War         0\n",
      "Cards_Played_Each    27\n",
      "dtype: int64\n",
      "\n",
      "MEAN INFORMATION\n",
      "Total_Turns          327.628317\n",
      "Rounds_of_War         20.142483\n",
      "Cards_Played_Each    388.055767\n",
      "dtype: float64\n",
      "\n",
      "MEDIAN INFORMATION\n",
      "Total_Turns          248.0\n",
      "Rounds_of_War         15.0\n",
      "Cards_Played_Each    294.0\n",
      "dtype: float64\n"
     ]
    }
   ],
   "source": [
    "print_stats(df)"
   ]
  },
  {
   "cell_type": "code",
   "execution_count": 51,
   "metadata": {
    "scrolled": false
   },
   "outputs": [
    {
     "data": {
      "text/plain": [
       "<matplotlib.axes._subplots.AxesSubplot at 0x11786f5f8>"
      ]
     },
     "execution_count": 51,
     "metadata": {},
     "output_type": "execute_result"
    },
    {
     "data": {
      "image/png": "[encoded data removed]",
      "text/plain": [
       "<Figure size 432x288 with 1 Axes>"
      ]
     },
     "metadata": {
      "needs_background": "light"
     },
     "output_type": "display_data"
    }
   ],
   "source": [
    "df.plot(x='id', y='Total_Turns', kind='scatter')"
   ]
  },
  {
   "cell_type": "code",
   "execution_count": 79,
   "metadata": {},
   "outputs": [
    {
     "name": "stdout",
     "output_type": "stream",
     "text": [
      "AVERAGE NUMBER TURNS IN A GAME OF WAR: 286.72246557101306\n",
      "AVERAGE NUMBER CARD MOVEMENTS IN A GAME OF WAR: 626.5471906372094\n"
     ]
    }
   ],
   "source": [
    "number_turns = list(df['Total_Turns'])\n",
    "card_movements = list(df['Card_Movements'])\n",
    "\n",
    "number_turns = remove_outliers(number_turns)\n",
    "card_movements = remove_outliers(card_movements)\n",
    "\n",
    "avg_turns = np.average(number_turns)\n",
    "avg_movements = np.average(card_movements)\n",
    "\n",
    "print('AVERAGE NUMBER TURNS IN A GAME OF WAR: {}'.format(avg_turns))\n",
    "print('AVERAGE NUMBER CARD MOVEMENTS IN A GAME OF WAR: {}'.format(avg_movements))"
   ]
  },
  {
   "cell_type": "code",
   "execution_count": 81,
   "metadata": {},
   "outputs": [
    {
     "name": "stdout",
     "output_type": "stream",
     "text": [
      "GAME TIME ESTIMATE BY TURNS: 71.68061639275327\n",
      "GAME TIME ESTIMATE BY CARD MOVEMENTS: 31.327359531860466\n"
     ]
    }
   ],
   "source": [
    "ESTIMATED_SECONDS_PER_TURN = 15\n",
    "ESTIMATED_SECONDS_PER_CARD_MOVEMENT = 3\n",
    "\n",
    "time_estimate_by_turns = time_estimate_minutes(avg_turns, ESTIMATED_SECONDS_PER_TURN)\n",
    "time_estimate_by_movements = time_estimate_minutes(avg_movements, ESTIMATED_SECONDS_PER_CARD_MOVEMENT)\n",
    "\n",
    "print('GAME TIME ESTIMATE BY TURNS: {}'.format(time_estimate_by_turns))\n",
    "print('GAME TIME ESTIMATE BY CARD MOVEMENTS: {}'.format(time_estimate_by_movements))"
   ]
  },
  {
   "cell_type": "code",
   "execution_count": null,
   "metadata": {},
   "outputs": [],
   "source": []
  }
 ],
 "metadata": {
  "kernelspec": {
   "display_name": "Python 3",
   "language": "python",
   "name": "python3"
  },
  "language_info": {
   "codemirror_mode": {
    "name": "ipython",
    "version": 3
   },
   "file_extension": ".py",
   "mimetype": "text/x-python",
   "name": "python",
   "nbconvert_exporter": "python",
   "pygments_lexer": "ipython3",
   "version": "3.6.4"
  }
 },
 "nbformat": 4,
 "nbformat_minor": 2
}
