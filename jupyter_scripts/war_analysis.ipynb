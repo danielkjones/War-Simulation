{
 "cells": [
  {
   "cell_type": "code",
   "execution_count": 1,
   "metadata": {},
   "outputs": [],
   "source": [
    "import pandas as pd\n",
    "import numpy as np\n",
    "import matplotlib.pyplot as plt"
   ]
  },
  {
   "cell_type": "code",
   "execution_count": 2,
   "metadata": {},
   "outputs": [],
   "source": [
    "# FUNCTION FOR FINDING THE BOUNDS BASED ON THE INTERQUARTILE RANGE.\n",
    "# IMPORTANT FOR DETERMINING WHICH VALUES ARE OUTLIERS.\n",
    "def find_bounds(data_array):\n",
    "    q1, q3 = np.percentile(data_array,[25,75])\n",
    "    iqr = q3 - q1\n",
    "    lower_bound = q1 -(1.5 * iqr) \n",
    "    upper_bound = q3 +(1.5 * iqr) \n",
    "    return lower_bound, upper_bound"
   ]
  },
  {
   "cell_type": "code",
   "execution_count": 3,
   "metadata": {},
   "outputs": [],
   "source": [
    "# REMOVE STATISTICAL OUTLIERS FROM AN ARRAY OF NUMERIC VALUES.\n",
    "def remove_outliers(data_array):\n",
    "    data_array.sort()\n",
    "    l_b, u_b = find_bounds(data_array)\n",
    "    return [value for value in data_array if value >= l_b and value <= u_b]"
   ]
  },
  {
   "cell_type": "code",
   "execution_count": 4,
   "metadata": {},
   "outputs": [],
   "source": [
    "def convert_to_minutes(time_seconds):\n",
    "    time_minutes = time_seconds / 60\n",
    "    return time_minutes"
   ]
  },
  {
   "cell_type": "code",
   "execution_count": 5,
   "metadata": {},
   "outputs": [
    {
     "data": {
      "text/html": [
       "<div>\n",
       "<style scoped>\n",
       "    .dataframe tbody tr th:only-of-type {\n",
       "        vertical-align: middle;\n",
       "    }\n",
       "\n",
       "    .dataframe tbody tr th {\n",
       "        vertical-align: top;\n",
       "    }\n",
       "\n",
       "    .dataframe thead th {\n",
       "        text-align: right;\n",
       "    }\n",
       "</style>\n",
       "<table border=\"1\" class=\"dataframe\">\n",
       "  <thead>\n",
       "    <tr style=\"text-align: right;\">\n",
       "      <th></th>\n",
       "      <th>Total_Turns</th>\n",
       "      <th>Rounds_of_War</th>\n",
       "      <th>Winner</th>\n",
       "      <th>Non_War_Turns</th>\n",
       "      <th>id</th>\n",
       "    </tr>\n",
       "  </thead>\n",
       "  <tbody>\n",
       "    <tr>\n",
       "      <th>0</th>\n",
       "      <td>616</td>\n",
       "      <td>38</td>\n",
       "      <td>Player 1</td>\n",
       "      <td>578</td>\n",
       "      <td>0</td>\n",
       "    </tr>\n",
       "    <tr>\n",
       "      <th>1</th>\n",
       "      <td>282</td>\n",
       "      <td>16</td>\n",
       "      <td>Player 1</td>\n",
       "      <td>266</td>\n",
       "      <td>1</td>\n",
       "    </tr>\n",
       "    <tr>\n",
       "      <th>2</th>\n",
       "      <td>293</td>\n",
       "      <td>19</td>\n",
       "      <td>Player 1</td>\n",
       "      <td>274</td>\n",
       "      <td>2</td>\n",
       "    </tr>\n",
       "    <tr>\n",
       "      <th>3</th>\n",
       "      <td>383</td>\n",
       "      <td>22</td>\n",
       "      <td>Player 2</td>\n",
       "      <td>361</td>\n",
       "      <td>3</td>\n",
       "    </tr>\n",
       "    <tr>\n",
       "      <th>4</th>\n",
       "      <td>134</td>\n",
       "      <td>5</td>\n",
       "      <td>Player 2</td>\n",
       "      <td>129</td>\n",
       "      <td>4</td>\n",
       "    </tr>\n",
       "    <tr>\n",
       "      <th>...</th>\n",
       "      <td>...</td>\n",
       "      <td>...</td>\n",
       "      <td>...</td>\n",
       "      <td>...</td>\n",
       "      <td>...</td>\n",
       "    </tr>\n",
       "    <tr>\n",
       "      <th>59995</th>\n",
       "      <td>175</td>\n",
       "      <td>12</td>\n",
       "      <td>Player 2</td>\n",
       "      <td>163</td>\n",
       "      <td>59995</td>\n",
       "    </tr>\n",
       "    <tr>\n",
       "      <th>59996</th>\n",
       "      <td>1152</td>\n",
       "      <td>82</td>\n",
       "      <td>Player 1</td>\n",
       "      <td>1070</td>\n",
       "      <td>59996</td>\n",
       "    </tr>\n",
       "    <tr>\n",
       "      <th>59997</th>\n",
       "      <td>248</td>\n",
       "      <td>20</td>\n",
       "      <td>Player 2</td>\n",
       "      <td>228</td>\n",
       "      <td>59997</td>\n",
       "    </tr>\n",
       "    <tr>\n",
       "      <th>59998</th>\n",
       "      <td>188</td>\n",
       "      <td>14</td>\n",
       "      <td>Player 1</td>\n",
       "      <td>174</td>\n",
       "      <td>59998</td>\n",
       "    </tr>\n",
       "    <tr>\n",
       "      <th>59999</th>\n",
       "      <td>486</td>\n",
       "      <td>24</td>\n",
       "      <td>Player 2</td>\n",
       "      <td>462</td>\n",
       "      <td>59999</td>\n",
       "    </tr>\n",
       "  </tbody>\n",
       "</table>\n",
       "<p>60000 rows × 5 columns</p>\n",
       "</div>"
      ],
      "text/plain": [
       "       Total_Turns  Rounds_of_War    Winner  Non_War_Turns     id\n",
       "0              616             38  Player 1            578      0\n",
       "1              282             16  Player 1            266      1\n",
       "2              293             19  Player 1            274      2\n",
       "3              383             22  Player 2            361      3\n",
       "4              134              5  Player 2            129      4\n",
       "...            ...            ...       ...            ...    ...\n",
       "59995          175             12  Player 2            163  59995\n",
       "59996         1152             82  Player 1           1070  59996\n",
       "59997          248             20  Player 2            228  59997\n",
       "59998          188             14  Player 1            174  59998\n",
       "59999          486             24  Player 2            462  59999\n",
       "\n",
       "[60000 rows x 5 columns]"
      ]
     },
     "execution_count": 5,
     "metadata": {},
     "output_type": "execute_result"
    }
   ],
   "source": [
    "# LOAD IN THE RAW DATA AND MAKE A DISTINCTION BETWEEN NUMBER OF TURNS\n",
    "# THAT ARE WAR VS. NON-WAR\n",
    "df = pd.read_csv('../data/game_log.csv')\n",
    "# I know... there is a chance that war turns are played multiple times at once\n",
    "# This is a rough estimate.\n",
    "df['Non_War_Turns'] = df['Total_Turns'] - df['Rounds_of_War']\n",
    "df['id'] = [i for i in range(len(df['Total_Turns']))]\n",
    "df"
   ]
  },
  {
   "cell_type": "code",
   "execution_count": 6,
   "metadata": {},
   "outputs": [
    {
     "data": {
      "text/html": [
       "<div>\n",
       "<style scoped>\n",
       "    .dataframe tbody tr th:only-of-type {\n",
       "        vertical-align: middle;\n",
       "    }\n",
       "\n",
       "    .dataframe tbody tr th {\n",
       "        vertical-align: top;\n",
       "    }\n",
       "\n",
       "    .dataframe thead th {\n",
       "        text-align: right;\n",
       "    }\n",
       "</style>\n",
       "<table border=\"1\" class=\"dataframe\">\n",
       "  <thead>\n",
       "    <tr style=\"text-align: right;\">\n",
       "      <th></th>\n",
       "      <th>Total_Turns</th>\n",
       "      <th>Rounds_of_War</th>\n",
       "      <th>Winner</th>\n",
       "      <th>Non_War_Turns</th>\n",
       "      <th>id</th>\n",
       "      <th>Estimated_Time_To_Completion</th>\n",
       "    </tr>\n",
       "  </thead>\n",
       "  <tbody>\n",
       "    <tr>\n",
       "      <th>0</th>\n",
       "      <td>616</td>\n",
       "      <td>38</td>\n",
       "      <td>Player 1</td>\n",
       "      <td>578</td>\n",
       "      <td>0</td>\n",
       "      <td>2216.62</td>\n",
       "    </tr>\n",
       "    <tr>\n",
       "      <th>1</th>\n",
       "      <td>282</td>\n",
       "      <td>16</td>\n",
       "      <td>Player 1</td>\n",
       "      <td>266</td>\n",
       "      <td>1</td>\n",
       "      <td>1002.34</td>\n",
       "    </tr>\n",
       "    <tr>\n",
       "      <th>2</th>\n",
       "      <td>293</td>\n",
       "      <td>19</td>\n",
       "      <td>Player 1</td>\n",
       "      <td>274</td>\n",
       "      <td>2</td>\n",
       "      <td>1062.56</td>\n",
       "    </tr>\n",
       "    <tr>\n",
       "      <th>3</th>\n",
       "      <td>383</td>\n",
       "      <td>22</td>\n",
       "      <td>Player 2</td>\n",
       "      <td>361</td>\n",
       "      <td>3</td>\n",
       "      <td>1363.73</td>\n",
       "    </tr>\n",
       "    <tr>\n",
       "      <th>4</th>\n",
       "      <td>134</td>\n",
       "      <td>5</td>\n",
       "      <td>Player 2</td>\n",
       "      <td>129</td>\n",
       "      <td>4</td>\n",
       "      <td>453.15</td>\n",
       "    </tr>\n",
       "    <tr>\n",
       "      <th>...</th>\n",
       "      <td>...</td>\n",
       "      <td>...</td>\n",
       "      <td>...</td>\n",
       "      <td>...</td>\n",
       "      <td>...</td>\n",
       "      <td>...</td>\n",
       "    </tr>\n",
       "    <tr>\n",
       "      <th>59995</th>\n",
       "      <td>175</td>\n",
       "      <td>12</td>\n",
       "      <td>Player 2</td>\n",
       "      <td>163</td>\n",
       "      <td>59995</td>\n",
       "      <td>640.43</td>\n",
       "    </tr>\n",
       "    <tr>\n",
       "      <th>59996</th>\n",
       "      <td>1152</td>\n",
       "      <td>82</td>\n",
       "      <td>Player 1</td>\n",
       "      <td>1070</td>\n",
       "      <td>59996</td>\n",
       "      <td>4242.58</td>\n",
       "    </tr>\n",
       "    <tr>\n",
       "      <th>59997</th>\n",
       "      <td>248</td>\n",
       "      <td>20</td>\n",
       "      <td>Player 2</td>\n",
       "      <td>228</td>\n",
       "      <td>59997</td>\n",
       "      <td>934.20</td>\n",
       "    </tr>\n",
       "    <tr>\n",
       "      <th>59998</th>\n",
       "      <td>188</td>\n",
       "      <td>14</td>\n",
       "      <td>Player 1</td>\n",
       "      <td>174</td>\n",
       "      <td>59998</td>\n",
       "      <td>697.86</td>\n",
       "    </tr>\n",
       "    <tr>\n",
       "      <th>59999</th>\n",
       "      <td>486</td>\n",
       "      <td>24</td>\n",
       "      <td>Player 2</td>\n",
       "      <td>462</td>\n",
       "      <td>59999</td>\n",
       "      <td>1695.66</td>\n",
       "    </tr>\n",
       "  </tbody>\n",
       "</table>\n",
       "<p>60000 rows × 6 columns</p>\n",
       "</div>"
      ],
      "text/plain": [
       "       Total_Turns  Rounds_of_War    Winner  Non_War_Turns     id  \\\n",
       "0              616             38  Player 1            578      0   \n",
       "1              282             16  Player 1            266      1   \n",
       "2              293             19  Player 1            274      2   \n",
       "3              383             22  Player 2            361      3   \n",
       "4              134              5  Player 2            129      4   \n",
       "...            ...            ...       ...            ...    ...   \n",
       "59995          175             12  Player 2            163  59995   \n",
       "59996         1152             82  Player 1           1070  59996   \n",
       "59997          248             20  Player 2            228  59997   \n",
       "59998          188             14  Player 1            174  59998   \n",
       "59999          486             24  Player 2            462  59999   \n",
       "\n",
       "       Estimated_Time_To_Completion  \n",
       "0                           2216.62  \n",
       "1                           1002.34  \n",
       "2                           1062.56  \n",
       "3                           1363.73  \n",
       "4                            453.15  \n",
       "...                             ...  \n",
       "59995                        640.43  \n",
       "59996                       4242.58  \n",
       "59997                        934.20  \n",
       "59998                        697.86  \n",
       "59999                       1695.66  \n",
       "\n",
       "[60000 rows x 6 columns]"
      ]
     },
     "execution_count": 6,
     "metadata": {},
     "output_type": "execute_result"
    }
   ],
   "source": [
    "# WE ARE GOING TO CREATE A TIME ESTIMATE BASED ON INFORMATION\n",
    "# GATHERED DURING QUICK TIME TRIALS\n",
    "AVERAGE_NON_WAR_TURN_TIME = 3.05\n",
    "AVERAGE_WAR_TURN_TIME = 11.94\n",
    "\n",
    "df['Estimated_Time_To_Completion'] = (df['Non_War_Turns'] * AVERAGE_NON_WAR_TURN_TIME)  + (df['Rounds_of_War'] * AVERAGE_WAR_TURN_TIME)\n",
    "df"
   ]
  },
  {
   "cell_type": "code",
   "execution_count": 7,
   "metadata": {
    "scrolled": false
   },
   "outputs": [
    {
     "data": {
      "text/plain": [
       "<matplotlib.axes._subplots.AxesSubplot at 0x1059550f0>"
      ]
     },
     "execution_count": 7,
     "metadata": {},
     "output_type": "execute_result"
    },
    {
     "data": {
      "image/png": "[encoded data removed]",
      "text/plain": [
       "<Figure size 432x288 with 1 Axes>"
      ]
     },
     "metadata": {
      "needs_background": "light"
     },
     "output_type": "display_data"
    }
   ],
   "source": [
    "# QUICK LOOK AT THE DATA IN A SCATTER PLOT. BECOMES VERY CLEAR THERE ARE SOME OUTLIERS.\n",
    "df.plot(x='id', y='Estimated_Time_To_Completion', kind='scatter')"
   ]
  },
  {
   "cell_type": "code",
   "execution_count": 10,
   "metadata": {
    "scrolled": true
   },
   "outputs": [
    {
     "name": "stdout",
     "output_type": "stream",
     "text": [
      "AVERAGE GAME TIME FOR WAR BETWEEN TWO PLAYERS: 17.172258489805223\n"
     ]
    }
   ],
   "source": [
    "# GOING TO REMOVE THE OUTLIERS TO FIND AN AVERAGE GAME TIME\n",
    "estimated_game_times_seconds = list(df['Estimated_Time_To_Completion'])\n",
    "estimated_game_times_seconds = remove_outliers(estimated_game_times_seconds)\n",
    "average_game_time_seconds = np.average(estimated_game_times_seconds)\n",
    "average_game_time_minutes = convert_to_minutes(average_game_time_seconds)\n",
    "print('AVERAGE GAME TIME FOR WAR BETWEEN TWO PLAYERS: {}'.format(average_game_time_minutes))"
   ]
  },
  {
   "cell_type": "code",
   "execution_count": 11,
   "metadata": {},
   "outputs": [
    {
     "name": "stdout",
     "output_type": "stream",
     "text": [
      "AVERAGE NUMBER OF TURNS FOR WAR BETWEEN TWO PLAYERS: 286.72246557101306\n"
     ]
    }
   ],
   "source": [
    "# GOING TO ALSO CHECK THE AVERAGE NUMBER OF TURNS, JUST CAUSE\n",
    "number_of_turns = list(df['Total_Turns'])\n",
    "number_of_turns = remove_outliers(number_of_turns)\n",
    "average_number_of_turns = np.average(number_of_turns)\n",
    "print('AVERAGE NUMBER OF TURNS FOR WAR BETWEEN TWO PLAYERS: {}'.format(average_number_of_turns))"
   ]
  },
  {
   "cell_type": "code",
   "execution_count": null,
   "metadata": {},
   "outputs": [],
   "source": []
  }
 ],
 "metadata": {
  "kernelspec": {
   "display_name": "Python 3",
   "language": "python",
   "name": "python3"
  },
  "language_info": {
   "codemirror_mode": {
    "name": "ipython",
    "version": 3
   },
   "file_extension": ".py",
   "mimetype": "text/x-python",
   "name": "python",
   "nbconvert_exporter": "python",
   "pygments_lexer": "ipython3",
   "version": "3.6.4"
  }
 },
 "nbformat": 4,
 "nbformat_minor": 2
}
